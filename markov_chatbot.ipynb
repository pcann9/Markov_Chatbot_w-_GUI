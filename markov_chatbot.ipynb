{
 "cells": [
  {
   "cell_type": "markdown",
   "metadata": {},
   "source": [
    "# Markov Chatbot"
   ]
  },
  {
   "cell_type": "code",
   "execution_count": null,
   "metadata": {},
   "outputs": [],
   "source": [
    "# import packages\n",
    "import tkinter as tk\n",
    "import markovify"
   ]
  },
  {
   "cell_type": "code",
   "execution_count": null,
   "metadata": {},
   "outputs": [],
   "source": [
    "# global values for state_size and max_sentence length\n",
    "# x = state_size, y=max sentence length\n",
    "x = '2'\n",
    "y = '200'"
   ]
  },
  {
   "cell_type": "code",
   "execution_count": null,
   "metadata": {},
   "outputs": [],
   "source": [
    "# train chatbot\n",
    "def train_chatbot(x):\n",
    "    with open('chatbot_data.csv', encoding = 'utf8') as f:\n",
    "        text = f.read()\n",
    "    model = markovify.NewlineText(text, state_size=int(x))\n",
    "    return model\n",
    "\n",
    "chatbot = train_chatbot(x)"
   ]
  },
  {
   "cell_type": "markdown",
   "metadata": {},
   "source": [
    "## GUI"
   ]
  },
  {
   "cell_type": "code",
   "execution_count": null,
   "metadata": {},
   "outputs": [],
   "source": [
    "# create the class 'Window'\n",
    "# it inherits from the 'tk.Frame' class \n",
    "# define 'Window' settings upon initialization\n",
    "\n",
    "class Window(tk.Frame):\n",
    "\n",
    "    # settings upon startup\n",
    "    def __init__(self, master=None):\n",
    "        #parameters that you want to send through the 'tk.frame' class\n",
    "        tk.Frame.__init__(self, master)\n",
    "        # reference to master (tk window)\n",
    "        self.master = master\n",
    "        # other functions we want to run when initializing\n",
    "        self.init_window()\n",
    "\n",
    "    # creation of init_window\n",
    "    def init_window(self):\n",
    "        # change title of master widget\n",
    "        #self.master.title('Markov_Chatbot_GUI')\n",
    "        \n",
    "        # frame takes up the entire window\n",
    "        self.pack(fill='both', expand=True)\n",
    "        \n",
    "        # chatbot speak\n",
    "        def write(string):\n",
    "            text_box.config(state=tk.NORMAL)\n",
    "            text_box.insert(\"end\", string + \"\\n\\n\")\n",
    "            text_box.see(\"end\")\n",
    "            text_box.config(state=tk.DISABLED)\n",
    "            \n",
    "        def chatbot_speak(y):\n",
    "            output = chatbot.make_sentence(max_words=int(y))\n",
    "            write(output)\n",
    "        \n",
    "        # run button \n",
    "        runButton = tk.Button(self, text='Run', activebackground='red', relief='groove',\n",
    "                             command=lambda: chatbot_speak(y=max_sentence_length_entry.get()))            \n",
    "        runButton.place(bordermode='outside',relx=.45, rely=.9, relheight=.1, relwidth=.1)\n",
    "        \n",
    "        \n",
    "        #create state_size entry\n",
    "        state_size_label = tk.Label(self, text='Markov State Size:', bg='orange')\n",
    "        state_size_label.place(bordermode='outside', relx=.01, rely=.94, relheight=.05, relwidth=.15)\n",
    "        state_size_entry = tk.Entry(self, justify='center', bg='yellow', bd=5)\n",
    "        state_size_entry.insert('end', x)\n",
    "        state_size_entry.place(bordermode='outside', relx=.15, rely=.94, relheight=.05, relwidth=.05)\n",
    "        \n",
    "        # get state_size values\n",
    "        def redefine_state_size():\n",
    "            result = state_size_entry.get()\n",
    "            global x\n",
    "            x = result\n",
    "            return x\n",
    "        \n",
    "        # max sentence button\n",
    "        max_sentence_length_label = tk.Label(self, text='Max Sentence Size:', bg='orange')\n",
    "        max_sentence_length_label.place(bordermode='outside', relx=.01, rely=.88, relheight=.05, relwidth=.15)\n",
    "        max_sentence_length_entry = tk.Entry(self, justify='center', bg='yellow')\n",
    "        max_sentence_length_entry.insert('end', y)\n",
    "        max_sentence_length_entry.place(bordermode='outside', relx=.15, rely=.88, relheight=.05, relwidth=.05)\n",
    "        \n",
    "                # get state_size values\n",
    "        def redefine_max_sentence_length():\n",
    "            result = max_sentence_length_entry.get()\n",
    "            global y\n",
    "            y = result\n",
    "            return y\n",
    "        \n",
    "        def retrain_model():\n",
    "            redefine_state_size()\n",
    "            redefine_max_sentence_length()\n",
    "            global chatbot\n",
    "            chatbot = train_chatbot(x)\n",
    "            write('\\t\\t[Retraining chatbot. state size is now {}. max sentence length is now {}.]'.format(x, y))\n",
    "        \n",
    "        # retrain model button\n",
    "        retrain_model_button = tk.Button(self, text='Retrain\\n Model', activebackground='red', height=2, width=12, relief='groove', command=retrain_model)\n",
    "        retrain_model_button.place(bordermode='outside', relx=.21, rely=.9, relheight=.075, relwidth=.06)\n",
    "        \n",
    "        # text box output\n",
    "        text_box = tk.Text(self, height=10, width=50, wrap='word', bg='plum2', font=('Arial', 20))\n",
    "        text_box.place(bordermode='outside', relx=.05, rely=.1, relheight=.7, relwidth=.9)\n"
   ]
  },
  {
   "cell_type": "markdown",
   "metadata": {},
   "source": [
    "## Execute GUI"
   ]
  },
  {
   "cell_type": "code",
   "execution_count": null,
   "metadata": {},
   "outputs": [],
   "source": [
    "# root window/main window\n",
    "root = tk.Tk()"
   ]
  },
  {
   "cell_type": "code",
   "execution_count": null,
   "metadata": {},
   "outputs": [],
   "source": [
    "# size of new window\n",
    "root.geometry('{}x{}'.format(800, 600))"
   ]
  },
  {
   "cell_type": "code",
   "execution_count": null,
   "metadata": {},
   "outputs": [],
   "source": [
    "# create the instance of root window\n",
    "app = Window(root)  "
   ]
  },
  {
   "cell_type": "code",
   "execution_count": null,
   "metadata": {},
   "outputs": [],
   "source": [
    "# show root window and begin the mainloop\n",
    "root.mainloop()"
   ]
  }
 ],
 "metadata": {
  "kernelspec": {
   "display_name": "Python 3",
   "language": "python",
   "name": "python3"
  },
  "language_info": {
   "codemirror_mode": {
    "name": "ipython",
    "version": 3
   },
   "file_extension": ".py",
   "mimetype": "text/x-python",
   "name": "python",
   "nbconvert_exporter": "python",
   "pygments_lexer": "ipython3",
   "version": "3.6.5"
  }
 },
 "nbformat": 4,
 "nbformat_minor": 2
}
